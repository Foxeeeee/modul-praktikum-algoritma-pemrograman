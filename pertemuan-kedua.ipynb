{
 "cells": [
  {
   "cell_type": "markdown",
   "metadata": {},
   "source": [
    "## **Operator Perbandingan**\n",
    "Operator perbandingan digunakan untuk membandingkan dua nilai dan mengembalikan hasil dalam bentuk boolean (`True` atau `False`)."
   ]
  },
  {
   "cell_type": "markdown",
   "metadata": {},
   "source": [
    "<center>\n",
    "\n",
    "|Operator perbandingan|<center>Penjelasan</center>|\n",
    "|-|-|\n",
    "|`==` (Sama dengan)|Perbandingan ini akan mengembalikan nilai `True`, jika kedua nilai sama|\n",
    "|`!=` (Tidak sama dengan)|Perbandingan ini akan mengembalikan nilai `True`, jika kedua nilai tidak sama|\n",
    "|`>` (Lebih dari)|Perbandingan ini akan mengembalikan nilai `True`, jika nilai disebelah kiri lebih dari nilai disebelah kanan|\n",
    "|`<` (Kurang dari)|Perbandingan ini akan mengembalikan nilai `True`, jika nilai disebelah kiri kurang dari nilai disebelah kanan|\n",
    "|`>=` Lebih dari sama dengan|Perbandingan ini akan mengembalikan nilai `True`, jika nilai disebelah kiri lebih atau sama dengan dari nilai disebelah kanan|\n",
    "|`<=` (Kurang dari)| Perbandingan ini akan mengembalikan nilai `True`, jika nilai disebelah kiri kurang atau sama dengan dari nilai disebelah kanan|\n",
    "\n",
    "</center>"
   ]
  },
  {
   "cell_type": "markdown",
   "metadata": {},
   "source": [
    "## **Operator Logika**\n",
    "Operator logika dalam pemrograman digunakan untuk menggabungkan beberapa kondisi atau untuk membalik nilai kondisi. Operator logika yang paling umum digunakan adalah `and`, `or`, dan `not`."
   ]
  },
  {
   "cell_type": "markdown",
   "metadata": {},
   "source": [
    "<center>\n",
    "\n",
    "|Operator|<center>Penjelasan</center>|\n",
    "|-|-|\n",
    "|`and`|Operator ini akan mengembalikan nilai `True`, jika kedua kondisi yang dioperasikan adalah benar|\n",
    "|`or`|Operator ini akan mengembalikan nilai `True`, jika salah satu kondisi yang dioperasikan benar|\n",
    "|`not`|Operator ini akan membalikan sebuah nilai (negasi)|\n",
    "</center>"
   ]
  },
  {
   "cell_type": "markdown",
   "metadata": {},
   "source": [
    "## **Percabangan**\n",
    "Percabangan dalam Python adalah mekanisme yang memungkinkan untuk mengeksekusi kode berdasarkan kondisi tertentu. Ini memungkinkan program untuk membuat keputusan dan menjalankan blok kode yang berbeda tergantung pada hasil dari ekspresi logika atau perbandingan."
   ]
  },
  {
   "cell_type": "markdown",
   "metadata": {},
   "source": [
    "#### **1. `IF-ELSE` Statement**\n",
    "`if-else` statement dalam pemrograman adalah struktur kontrol yang digunakan untuk membuat keputusan berdasarkan kondisi tertentu. Ini memungkinkan program untuk memilih jalur eksekusi yang berbeda tergantung pada apakah suatu kondisi terpenuhi atau tidak."
   ]
  },
  {
   "cell_type": "markdown",
   "metadata": {},
   "source": [
    "<center>\n",
    "\n",
    "![Alt text](./assets/flowchart-if-else.jpg)\n",
    "\n",
    "</center>"
   ]
  },
  {
   "cell_type": "code",
   "execution_count": null,
   "metadata": {},
   "outputs": [],
   "source": [
    "# if kondisi 1:\n",
    "#     statement\n",
    "# elif kondisi2:\n",
    "#     statement\n",
    "# else:\n",
    "#     statement"
   ]
  },
  {
   "cell_type": "code",
   "execution_count": null,
   "metadata": {},
   "outputs": [],
   "source": [
    "# menggunakan operator perbandingan pada percabangan\n",
    "x = int(input(\"Masukan nilai x:\"))\n",
    "if x == 10:\n",
    "    print(\"x sama dengan 10\")\n",
    "elif x < 5:\n",
    "    print(\"x kurang dari 5\")\n",
    "else:\n",
    "    print(\"x tidak memenuhi kedua kondisi di atas\")"
   ]
  },
  {
   "cell_type": "code",
   "execution_count": null,
   "metadata": {},
   "outputs": [],
   "source": [
    "# menggunakan operator logika pada percabangan\n",
    "x = int(input(\"Masukan nilai x: \"))\n",
    "y = int(input(\"Masukan nilai y: \"))\n",
    "\n",
    "if x == 10 and y == 10:\n",
    "    print(\"x dan y bernilai 10\")\n",
    "elif x < 5 and y < 7:\n",
    "    print(\"x kurang dari 5 dan y kurang dari 7\")\n",
    "else:\n",
    "    print(\"x dan y tidak memenuhi kedua kondisi di atas\")"
   ]
  },
  {
   "cell_type": "markdown",
   "metadata": {},
   "source": [
    "#### **Latihan `if-else` statement**\n",
    "\n",
    "Buatlah program percabangan dengan kriteria:\n",
    "1. Nilai di-input dari user\n",
    "2. Jika nilai >= 80 dan nilai <= 100, grade = A\n",
    "3. Jika nilai <= 79 dan nilai >= 60, grade = B \n",
    "4. Jika nilai <= 59 dan nilai >= 40, grade = C\n",
    "5. Jika nilai <= 39 dan nilai == 0, grade = D\n",
    "6. Jika nilai tidak memenuhi semua kondisi diatas, maka informasi yang diberikan adalah nilai tidak boleh lebih dari 100 dan tidak boleh kurang dari 0"
   ]
  },
  {
   "cell_type": "markdown",
   "metadata": {},
   "source": [
    "#### **2. `MATCH-CASE` Statement**\n",
    "\n",
    "match case adalah fitur yang mirip dengan `switch-case` yang ada di beberapa bahasa pemrograman lainnya. `match-case` digunakan untuk membuat percabangan berdasarkan pola tertentu, yang membuat kode lebih bersih dan mudah dibaca ketika bekerja dengan berbagai kondisi yang kompleks."
   ]
  },
  {
   "cell_type": "markdown",
   "metadata": {},
   "source": [
    "<center> \n",
    "\n",
    "![Alt text](./assets/flowchart-switch-case.jpg)\n",
    "\n",
    "</center>"
   ]
  },
  {
   "cell_type": "code",
   "execution_count": null,
   "metadata": {},
   "outputs": [],
   "source": [
    "# match variabel:\n",
    "#     case pola1:\n",
    "#         statement\n",
    "#     case pola2:\n",
    "#         statement\n",
    "#     case _:\n",
    "#         statement"
   ]
  },
  {
   "cell_type": "code",
   "execution_count": null,
   "metadata": {},
   "outputs": [],
   "source": [
    "buah = input(\"Masukan nama buah: \")\n",
    "\n",
    "match buah:\n",
    "    case \"apel\":\n",
    "        print(\"Ini adalah buah apel\")\n",
    "    case \"pisang\":\n",
    "        print(\"Ini adalah buah pisang\")\n",
    "    case _:\n",
    "        print(\"Bukan merupakan buah apel ataupun pisang\")"
   ]
  },
  {
   "cell_type": "markdown",
   "metadata": {},
   "source": [
    "#### **Latihan `match-case` statement**\n",
    "Buatlah program dengan ketentuan:\n",
    "1. Operasi yang akan dilakukan di-input oleh user\n",
    "2. Nilai a dan b di-input dari user\n",
    "3. Jika operasi == + maka akan melakukan penjumlahan\n",
    "4. Jika operasi == - maka akan melakukan pengurangan\n",
    "5. Jika operasi == / maka akan melakukan pembagian\n",
    "6. Jika operasi == * makan akan melakukan perkalian"
   ]
  },
  {
   "cell_type": "markdown",
   "metadata": {},
   "source": [
    "## **Perulangan/*Looping***\n",
    "Perulangan atau *looping* dalam pemrograman adalah sebuah konstruksi yang memungkinkan eksekusi sebuah blok kode berulang kali hingga kondisi tertentu terpenuhi. Perulangan sangat berguna untuk mengotomatisasi tugas-tugas yang berulang dan mengurangi pengulangan kode. Pada umumnya, konstruksi yang digunakan untuk melakukan perulangan yaitu `for` dan `while`"
   ]
  },
  {
   "cell_type": "markdown",
   "metadata": {},
   "source": [
    "#### **1. For Loop**\n",
    "*For loop* digunakan ketika jumlah iterasi atau perulangan sudah diketahui sebelumnya atau dapat dihitung. *For loop* biasanya terdiri dari tiga bagian utama, yaitu inisialisasi, kondisi, dan langkah increment/decrement"
   ]
  },
  {
   "cell_type": "markdown",
   "metadata": {},
   "source": [
    "<center>\n",
    "\n",
    "![Alt text](./assets/flowchart-for-loop.jpg)\n",
    "\n",
    "</center>"
   ]
  },
  {
   "cell_type": "code",
   "execution_count": null,
   "metadata": {},
   "outputs": [],
   "source": [
    "\"\"\"\n",
    "for variabel in element:\n",
    "    statement\n",
    "\"\"\""
   ]
  },
  {
   "cell_type": "code",
   "execution_count": null,
   "metadata": {},
   "outputs": [],
   "source": [
    "for i in \"Hello World\":\n",
    "    print(i)"
   ]
  },
  {
   "cell_type": "markdown",
   "metadata": {},
   "source": [
    "#### **Menggunakan Fungsi `range()` Untuk Looping**\n",
    "Fungsi range() dalam Python digunakan untuk menghasilkan urutan angka. Fungsi ini sangat berguna dalam for loop ketika kita ingin mengulang sejumlah iterasi tertentu atau menghasilkan urutan angka untuk diproses. range() dapat dipanggil dengan satu, dua, atau tiga argumen.\n",
    "1. `range(stop)`\n",
    "2. `range(start, stop)`\n",
    "3. `range(start, stop, step)`"
   ]
  },
  {
   "cell_type": "code",
   "execution_count": null,
   "metadata": {},
   "outputs": [],
   "source": [
    "# for loop menggunakan fungsi range(stop)\n",
    "print(\"Awal dari loop\\n\")\n",
    "\n",
    "for i in range(5):\n",
    "    print(f\"Iterasi ke-{i}\")\n",
    "\n",
    "print(\"\\nAkhir dari loop\")"
   ]
  },
  {
   "cell_type": "code",
   "execution_count": null,
   "metadata": {},
   "outputs": [],
   "source": [
    "# for loop menggunakan fungsi range(start, stop)\n",
    "for i in range(1, 5):\n",
    "    print(f\"Iterasi ke-{i}\")"
   ]
  },
  {
   "cell_type": "code",
   "execution_count": null,
   "metadata": {},
   "outputs": [],
   "source": [
    "# for loop menggunkan fungsi range(start, stop, step)\n",
    "for i in range (1, 10, 2):\n",
    "    print(f\"Iterasi ke-{i}\")"
   ]
  },
  {
   "cell_type": "code",
   "execution_count": null,
   "metadata": {},
   "outputs": [],
   "source": [
    "# membuat segitiga menggunakan for loop\n",
    "sisi = 9\n",
    "count = 1\n",
    "for i in range(sisi):\n",
    "    print(\"*\"*count)\n",
    "    count += 1"
   ]
  },
  {
   "cell_type": "code",
   "execution_count": null,
   "metadata": {},
   "outputs": [],
   "source": [
    "# menampilkan angka ganjil menggunakan for\n",
    "iterasi = int(input(\"Masukan banyak iterasi: \"))\n",
    "for i in range(iterasi):\n",
    "    if i % 2 == 1:\n",
    "        print(i)"
   ]
  },
  {
   "cell_type": "markdown",
   "metadata": {},
   "source": [
    "#### **2. While Loop**\n",
    "While loop adalah struktur kontrol dalam pemrograman yang digunakan untuk menjalankan serangkaian pernyataan (statements) berulang kali selama kondisi tertentu masih bernilai True. Pada dasarnya, while loop mengevaluasi kondisi sebelum menjalankan setiap iterasi (putaran) dari loop. Jika kondisi masih True, maka blok kode di dalam loop akan dieksekusi. Begitu kondisi menjadi False, eksekusi loop akan berhenti dan kontrol program akan berlanjut ke pernyataan setelah while loop."
   ]
  },
  {
   "cell_type": "code",
   "execution_count": null,
   "metadata": {},
   "outputs": [],
   "source": [
    "\"\"\"\n",
    "while kondisi:\n",
    "    statement\n",
    "\"\"\""
   ]
  },
  {
   "cell_type": "code",
   "execution_count": null,
   "metadata": {},
   "outputs": [],
   "source": [
    "a = 0\n",
    "\n",
    "print(\"Awal dari loop\")\n",
    "\n",
    "while a < 10:\n",
    "    print(a)\n",
    "    a += 1\n",
    "\n",
    "print(\"Akhir dari loop\")"
   ]
  },
  {
   "cell_type": "code",
   "execution_count": null,
   "metadata": {},
   "outputs": [],
   "source": [
    "a = True\n",
    "i = 0\n",
    "\n",
    "while a:\n",
    "    option = input(\"Apakah ingin melakukan looping?(ya/tidak): \")\n",
    "    if option == \"ya\":\n",
    "        i += 1\n",
    "        print(f\"iterasi ke-{i}\")\n",
    "    elif option == \"tidak\":\n",
    "        a = False"
   ]
  },
  {
   "cell_type": "markdown",
   "metadata": {},
   "source": [
    "## **Continue, Pass, dan Break Statement**"
   ]
  },
  {
   "cell_type": "markdown",
   "metadata": {},
   "source": [
    "#### **1. Continue Statement**\n",
    "`continue` statement digunakan untuk melewatkan sisa kode dalam iterasi saat ini dan melajutkan ke iterasi berikutnya.\n"
   ]
  },
  {
   "cell_type": "code",
   "execution_count": null,
   "metadata": {},
   "outputs": [],
   "source": [
    "# contoh perggunaan continue statement dalam for loop\n",
    "for i in range(1, 10):\n",
    "    if i == 3:\n",
    "        print(\"Iterasi yang dilewat\")\n",
    "        continue\n",
    "    print(i)"
   ]
  },
  {
   "cell_type": "code",
   "execution_count": null,
   "metadata": {},
   "outputs": [],
   "source": [
    "# contoh penggunaan continue statement dalam while loop\n",
    "a = 0\n",
    "\n",
    "while a < 10:\n",
    "    a+=1\n",
    "    if a == 3:\n",
    "        print(\"Iterasi yang dilewat\")\n",
    "        continue\n",
    "    print(a)\n",
    "        "
   ]
  },
  {
   "cell_type": "markdown",
   "metadata": {},
   "source": [
    "#### **2. Pass Statement**\n",
    "`pass` statement digunakan sebagai placeholder untuk blok kode yang tidak melakukan apa-apa."
   ]
  },
  {
   "cell_type": "code",
   "execution_count": null,
   "metadata": {},
   "outputs": [],
   "source": [
    "# contoh penggunaan pass statement dalam for loop\n",
    "for i in range(1, 10):\n",
    "    if i == 2:\n",
    "        pass\n",
    "    else:\n",
    "        print(i)"
   ]
  },
  {
   "cell_type": "code",
   "execution_count": null,
   "metadata": {},
   "outputs": [],
   "source": [
    "# contoh penggunaan pass statement dalam while loop\n",
    "a = 0\n",
    "\n",
    "while a < 10:\n",
    "    a += 1\n",
    "    if a == 3:\n",
    "        pass\n",
    "    else:\n",
    "        print(a)"
   ]
  },
  {
   "cell_type": "markdown",
   "metadata": {},
   "source": [
    "#### **3. Break Statement**\n",
    "`break` statement digunakan untuk menghentikan loop secara paksa sebelum kondisi terpenuhi"
   ]
  },
  {
   "cell_type": "code",
   "execution_count": null,
   "metadata": {},
   "outputs": [],
   "source": [
    "# contoh penggunaan break statement dalam for loop\n",
    "for i in range(0,10):\n",
    "    if i == 4:\n",
    "        break\n",
    "    print(i)"
   ]
  },
  {
   "cell_type": "code",
   "execution_count": null,
   "metadata": {},
   "outputs": [],
   "source": [
    "# contoh penggunaan break statement dalam while loop\n",
    "a = 0\n",
    "\n",
    "while a < 10:\n",
    "    a += 1\n",
    "    if a == 4:\n",
    "        break\n",
    "    print(a)"
   ]
  },
  {
   "cell_type": "markdown",
   "metadata": {},
   "source": [
    "#### **Latihan Perulangan dan Percabangan**"
   ]
  },
  {
   "cell_type": "code",
   "execution_count": null,
   "metadata": {},
   "outputs": [],
   "source": [
    "while True:\n",
    "    print(\"===PROGRAM UNTUK CEK ANGKA GANJIL DAN GENAP===\")\n",
    "    print(\"1. Program untuk cek angka ganjil\")\n",
    "    print(\"2. Program untuk cek angka genap\")\n",
    "    print(\"3. Keluar dari program\")\n",
    "    print(\"==================================================\")\n",
    "    \n",
    "    option = input(\"Masukan nomor program yang akan dijalanakan: \")\n",
    "\n",
    "    match option:\n",
    "        case \"1\":\n",
    "            print(\"\\nProgram untuk cek angka ganjil\")\n",
    "            angka = int(input(\"Masukan angka yang akan dicek: \"))\n",
    "\n",
    "            if angka % 2 == 1:\n",
    "                print(f\"{angka} adalah bilangan ganjil\\n\")\n",
    "            else:\n",
    "                print(f\"{angka} bukan bilangan ganjil\\n\")\n",
    "\n",
    "        case \"2\":\n",
    "            print(\"\\nProgram untuk cek angka genap\")\n",
    "            angka = int(input(\"Masukan angka yang akan dicek: \"))\n",
    "\n",
    "            if angka % 2 == 0:\n",
    "                print(f\"{angka} adalah bilangan genap\\n\")\n",
    "            else:\n",
    "                print(f\"{angka} bukan bilangan genap\\n\")\n",
    "\n",
    "        case \"3\":\n",
    "            print(\"Program berhenti\")\n",
    "            break\n",
    "\n",
    "        case _:\n",
    "            print(\"Tidak ada option ini, silahkan input kembali\\n\")\n",
    "            option"
   ]
  },
  {
   "cell_type": "markdown",
   "metadata": {},
   "source": [
    "## **Function/Fungsi**\n",
    "Fungsi adalah blok kode yang dapat digunakan kembali yang hanya berjalan ketika dipanggil. Fungsi memungkinkan Anda untuk mengelompokkan kode yang berhubungan dan menjalankannya di berbagai bagian dari program tanpa harus menulis ulang kode tersebut. Fungsi dalam Python didefinisikan menggunakan kata kunci `def` dan diikuti dengan nama fungsi dan tanda kurung yang mungkin berisikan parameter."
   ]
  },
  {
   "cell_type": "code",
   "execution_count": null,
   "metadata": {},
   "outputs": [],
   "source": [
    "\"\"\"\n",
    "def nama_fungsi(parameter):\n",
    "    statement\n",
    "    return mengembalikan_nilai\n",
    "\"\"\""
   ]
  },
  {
   "cell_type": "code",
   "execution_count": 10,
   "metadata": {},
   "outputs": [
    {
     "name": "stdout",
     "output_type": "stream",
     "text": [
      "Hello world\n"
     ]
    }
   ],
   "source": [
    "# contoh function tanpa paramater\n",
    "def ini_function():\n",
    "    print(\"Hello world\")\n",
    "\n",
    "print(ini_function())"
   ]
  },
  {
   "cell_type": "code",
   "execution_count": 30,
   "metadata": {},
   "outputs": [
    {
     "name": "stdout",
     "output_type": "stream",
     "text": [
      "3\n"
     ]
    }
   ],
   "source": [
    "def penjumlahan():\n",
    "    return 1 + 2\n",
    "\n",
    "print(penjumlahan())"
   ]
  },
  {
   "cell_type": "markdown",
   "metadata": {},
   "source": [
    "#### **Argumen**\n",
    "Argumen adalah nilai aktual yang diberikan ke parameter saat memanggil fungsi. Argumen mengisi placeholder yang telah didefinisikan oleh parameter."
   ]
  },
  {
   "cell_type": "code",
   "execution_count": null,
   "metadata": {},
   "outputs": [],
   "source": [
    "\"\"\"\n",
    "def function(parameter):\n",
    "    statemen\n",
    "\n",
    "function(argumen)\n",
    "\"\"\""
   ]
  },
  {
   "cell_type": "code",
   "execution_count": 33,
   "metadata": {},
   "outputs": [
    {
     "name": "stdout",
     "output_type": "stream",
     "text": [
      "Hello Hafidz\n"
     ]
    }
   ],
   "source": [
    "# contoh function menggunakan parameter dan argumen\n",
    "def param_dalam_function(nama):\n",
    "    print(f\"Hello {nama}\")\n",
    "\n",
    "# mengisi argumen untuk parameter\n",
    "param_dalam_function(\"Hafidz\")"
   ]
  },
  {
   "cell_type": "markdown",
   "metadata": {},
   "source": [
    "#### **Arbitrary Parameter**\n",
    "Arbitrary parameter memungkinkan untuk menerima jumlah argumen yang tidak terbatas dalam sebuah function."
   ]
  },
  {
   "cell_type": "code",
   "execution_count": null,
   "metadata": {},
   "outputs": [],
   "source": [
    "def penjumlahan(*angka):\n",
    "    total = sum(angka)\n",
    "    print(total)\n",
    "\n",
    "penjumlahan(2, 2, 2, 2, 2)"
   ]
  },
  {
   "cell_type": "markdown",
   "metadata": {},
   "source": [
    "#### **Latihan function**"
   ]
  },
  {
   "cell_type": "code",
   "execution_count": 63,
   "metadata": {},
   "outputs": [
    {
     "name": "stdout",
     "output_type": "stream",
     "text": [
      "2 adalah bilangan prima\n",
      "4 bukan bilangan prima\n"
     ]
    }
   ],
   "source": [
    "# function untuk cek apakah angka tersebut bilangan prima atau bukan\n",
    "def is_prima(x):\n",
    "    if x <= 1:\n",
    "        return f\"{x} bukan bilangan prima\"\n",
    "\n",
    "    for i in range(2, x):\n",
    "        if x % i == 0:\n",
    "            return f\"{x} bukan bilangan prima\"\n",
    "\n",
    "    return f\"{x} adalah bilangan prima\"\n",
    "\n",
    "print(is_prima(2)) \n",
    "print(is_prima(4)) \n"
   ]
  },
  {
   "cell_type": "markdown",
   "metadata": {},
   "source": [
    "## **Library**\n",
    "Di Python, istilah \"library\" (atau \"module\" dalam konteks yang lebih teknis) mengacu pada kumpulan kode yang telah ditulis sebelumnya dan dapat digunakan kembali untuk membantu dalam pengembangan perangkat lunak. Library biasanya terdiri dari fungsi-fungsi, kelas-kelas, dan variabel-variabel yang telah diimplementasikan untuk menyelesaikan tugas-tugas umum atau spesifik."
   ]
  },
  {
   "cell_type": "code",
   "execution_count": 73,
   "metadata": {},
   "outputs": [
    {
     "name": "stdout",
     "output_type": "stream",
     "text": [
      "Masukan tanggal lahir anda\n",
      "Tanggal lahir anda adalah: 2003-05-15\n",
      "Tanggal hari ini adalah: 2024-06-13\n",
      "Hari ini adalah: 2024-06-13\n",
      "Umur anda hari ini adalah: 21 tahun 1 bulan\n"
     ]
    }
   ],
   "source": [
    "# latihan library\n",
    "import datetime as dt\n",
    "\n",
    "print(\"Masukan tanggal lahir anda\")\n",
    "tanggal = int(input(\"Tanggal: \"))\n",
    "bulan = int(input(\"Bulan: \"))\n",
    "tahun = int(input(\"Tahun: \"))\n",
    "\n",
    "tanggal_lahir = dt.date(tahun, bulan, tanggal)\n",
    "print(f\"Tanggal lahir anda adalah: {tanggal_lahir}\")\n",
    "\n",
    "hari_ini = dt.date.today()\n",
    "print(f\"Tanggal hari ini adalah: {hari_ini}\")\n",
    "\n",
    "umur_hari = hari_ini - tanggal_lahir\n",
    "umur_tahun = umur_hari.days // 365\n",
    "umur_bulan = (umur_hari.days % 365) // 30\n",
    "\n",
    "print(f\"Hari ini adalah: {hari_ini}\")\n",
    "print(f\"Umur anda hari ini adalah: {umur_tahun} tahun {umur_bulan} bulan\")"
   ]
  },
  {
   "cell_type": "code",
   "execution_count": null,
   "metadata": {},
   "outputs": [],
   "source": []
  }
 ],
 "metadata": {
  "kernelspec": {
   "display_name": "Python 3",
   "language": "python",
   "name": "python3"
  },
  "language_info": {
   "codemirror_mode": {
    "name": "ipython",
    "version": 3
   },
   "file_extension": ".py",
   "mimetype": "text/x-python",
   "name": "python",
   "nbconvert_exporter": "python",
   "pygments_lexer": "ipython3",
   "version": "3.12.0"
  }
 },
 "nbformat": 4,
 "nbformat_minor": 2
}
