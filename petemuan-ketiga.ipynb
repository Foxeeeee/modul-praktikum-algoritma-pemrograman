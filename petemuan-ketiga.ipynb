{
 "cells": [
  {
   "cell_type": "markdown",
   "metadata": {},
   "source": [
    "## **Struktur Data**"
   ]
  },
  {
   "cell_type": "markdown",
   "metadata": {},
   "source": [
    "Struktur data adalah cara untuk mengorganisir, menyimpan, dan mengelola data dalam suatu program komputer sehingga data tersebut dapat digunakan secara efisien. Struktur data yang baik membantu memudahkan pengaksesan dan manipulasi data serta mengoptimalkan penggunaan memori dan waktu komputasi."
   ]
  },
  {
   "cell_type": "markdown",
   "metadata": {},
   "source": [
    "#### **1. List**"
   ]
  },
  {
   "cell_type": "markdown",
   "metadata": {},
   "source": [
    "#### **Membuat list**"
   ]
  },
  {
   "cell_type": "code",
   "execution_count": 9,
   "metadata": {},
   "outputs": [
    {
     "name": "stdout",
     "output_type": "stream",
     "text": [
      "[1, 2, 3, 4, 'lima', 7, 7.5, True]\n"
     ]
    }
   ],
   "source": [
    "_list = [1, 2, 3, 4, \"lima\", 7, 7.5, True]\n",
    "\n",
    "print(_list)"
   ]
  },
  {
   "cell_type": "markdown",
   "metadata": {},
   "source": [
    "#### **Mengakses list**"
   ]
  },
  {
   "cell_type": "code",
   "execution_count": 10,
   "metadata": {},
   "outputs": [
    {
     "name": "stdout",
     "output_type": "stream",
     "text": [
      "1\n"
     ]
    }
   ],
   "source": [
    "\"\"\"\n",
    "print(list[index])\n",
    "\"\"\"\n",
    "\n",
    "print(_list[0])"
   ]
  },
  {
   "cell_type": "markdown",
   "metadata": {},
   "source": [
    "#### **Menambahkan data baru kedalam list**"
   ]
  },
  {
   "cell_type": "markdown",
   "metadata": {},
   "source": [
    "Untuk menambahkan data baru pada list kita bisa menggunakan metode .append()"
   ]
  },
  {
   "cell_type": "code",
   "execution_count": 11,
   "metadata": {},
   "outputs": [
    {
     "name": "stdout",
     "output_type": "stream",
     "text": [
      "[1, 2, 3, 4, 'lima', 7, 7.5, True, 'data baru']\n"
     ]
    }
   ],
   "source": [
    "\"\"\"\n",
    "list.append(data yang ingin ditambahkan)\n",
    "\"\"\"\n",
    "\n",
    "_list.append(\"data baru\")\n",
    "print(_list)"
   ]
  },
  {
   "cell_type": "markdown",
   "metadata": {},
   "source": [
    "#### **Mengubah data pada list**"
   ]
  },
  {
   "cell_type": "code",
   "execution_count": 12,
   "metadata": {},
   "outputs": [
    {
     "name": "stdout",
     "output_type": "stream",
     "text": [
      "[1, 2, 3, 4, 6, 7, 7.5, True, 'data baru']\n"
     ]
    }
   ],
   "source": [
    "\"\"\"\n",
    "list[index] = data yang akan menrubah data pada index\n",
    "\"\"\"\n",
    "_list[4] = 6\n",
    "\n",
    "print(_list)"
   ]
  },
  {
   "cell_type": "markdown",
   "metadata": {},
   "source": [
    "#### **Menghapus data pada list**\n",
    "Untuk menghapus data pada list, kita bisa menggunakan metode `.remove()`, `.pop()` ataupun menggunakan kata kunci `def`"
   ]
  },
  {
   "cell_type": "code",
   "execution_count": 13,
   "metadata": {},
   "outputs": [
    {
     "name": "stdout",
     "output_type": "stream",
     "text": [
      "data pada list sebelum dihapus: [1, 2, 3, 4, 6, 7, 7.5, True, 'data baru']\n",
      "\n",
      "data pada list setelah dihapus: [1, 2, 3, 4, 6, 7, 7.5, True]\n"
     ]
    }
   ],
   "source": [
    "\"\"\"\n",
    "menggunakan .remove()\n",
    "\n",
    "list.remove(data yang akan dihapus)\n",
    "\"\"\"\n",
    "print(f\"data pada list sebelum dihapus: {_list}\\n\")\n",
    "\n",
    "_list.remove('data baru')\n",
    "print(f\"data pada list setelah dihapus: {_list}\")"
   ]
  },
  {
   "cell_type": "code",
   "execution_count": 15,
   "metadata": {},
   "outputs": [
    {
     "name": "stdout",
     "output_type": "stream",
     "text": [
      "data pada list sebelum dihapus: [1, 2, 3, 4, 7, 7.5, True]\n",
      "\n",
      "data pada list setelah dihapus: [1, 2, 3, 4, 7.5, True]\n"
     ]
    }
   ],
   "source": [
    "\"\"\"\n",
    "menggunakan .pop()\n",
    "\n",
    "untuk fungsi .pop() data yang dihapus akan berdasarkan index (default index terakhir)\n",
    "\"\"\"\n",
    "print(f\"data pada list sebelum dihapus: {_list}\\n\")\n",
    "\n",
    "\n",
    "_list.pop(4)\n",
    "print(f\"data pada list setelah dihapus: {_list}\")"
   ]
  },
  {
   "cell_type": "code",
   "execution_count": 16,
   "metadata": {},
   "outputs": [
    {
     "name": "stdout",
     "output_type": "stream",
     "text": [
      "data pada list sebelum dihapus: [1, 2, 3, 4, 7.5, True]\n",
      "\n",
      "data pada list setelah dihapus: [1, 2, 4, 7.5, True]\n"
     ]
    }
   ],
   "source": [
    "\"\"\"\n",
    "menggunakan kata kunci del\n",
    "\n",
    "untuk menggunakan kata kunci del, kita akan menghapus data berdasarkan index\n",
    "\"\"\"\n",
    "print(f\"data pada list sebelum dihapus: {_list}\\n\")\n",
    "\n",
    "del _list[2]\n",
    "print(f\"data pada list setelah dihapus: {_list}\")"
   ]
  },
  {
   "cell_type": "markdown",
   "metadata": {},
   "source": [
    "#### **2. Dictionary**"
   ]
  },
  {
   "cell_type": "markdown",
   "metadata": {},
   "source": [
    "#### **Membuat dictionary**"
   ]
  },
  {
   "cell_type": "code",
   "execution_count": 141,
   "metadata": {},
   "outputs": [
    {
     "name": "stdout",
     "output_type": "stream",
     "text": [
      "{'nama': 'Muhamad Hafidz Sohibul Fazri', 'umur': 21, 'angkatan': 2021}\n"
     ]
    }
   ],
   "source": [
    "\"\"\"\n",
    "dictionary = {\n",
    "    key: value\n",
    "}\n",
    "\"\"\"\n",
    "\n",
    "_dictionary = {\n",
    "    \"nama\": \"Muhamad Hafidz Sohibul Fazri\",\n",
    "    \"umur\": 21,\n",
    "    \"angkatan\": 2021\n",
    "}\n",
    "\n",
    "print(_dictionary)"
   ]
  },
  {
   "cell_type": "markdown",
   "metadata": {},
   "source": [
    "#### **Mengakses data pada dictionary**"
   ]
  },
  {
   "cell_type": "code",
   "execution_count": 142,
   "metadata": {},
   "outputs": [
    {
     "name": "stdout",
     "output_type": "stream",
     "text": [
      "Muhamad Hafidz Sohibul Fazri\n"
     ]
    }
   ],
   "source": [
    "\"\"\"\n",
    "_dictionary[key]\n",
    "\"\"\"\n",
    "\n",
    "print(_dictionary[\"nama\"])"
   ]
  },
  {
   "cell_type": "markdown",
   "metadata": {},
   "source": [
    "#### **Menambahkan data pada dictionary**"
   ]
  },
  {
   "cell_type": "code",
   "execution_count": 143,
   "metadata": {},
   "outputs": [
    {
     "name": "stdout",
     "output_type": "stream",
     "text": [
      "{'nama': 'Muhamad Hafidz Sohibul Fazri', 'umur': 21, 'angkatan': 2021, 'alamat': 'Sumedang'}\n"
     ]
    }
   ],
   "source": [
    "\"\"\"\n",
    "_dictionary[key] = value\n",
    "\"\"\"\n",
    "\n",
    "_dictionary['alamat'] = 'Sumedang'\n",
    "\n",
    "print(_dictionary)"
   ]
  },
  {
   "cell_type": "code",
   "execution_count": 144,
   "metadata": {},
   "outputs": [
    {
     "name": "stdout",
     "output_type": "stream",
     "text": [
      "{'nama': 'Muhamad Hafidz Sohibul Fazri', 'umur': 21, 'angkatan': 2021, 'alamat': 'Sumedang', 'no_hp': '08123456789'}\n"
     ]
    }
   ],
   "source": [
    "\"\"\"\n",
    "menggunakan metode .update()\n",
    "\n",
    "_dictionary.update({key: value})\n",
    "\"\"\"\n",
    "\n",
    "_dictionary.update({\"no_hp\": \"08123456789\"})\n",
    "print(_dictionary)"
   ]
  },
  {
   "cell_type": "markdown",
   "metadata": {},
   "source": [
    "#### **Merubah data pada dictionary**"
   ]
  },
  {
   "cell_type": "code",
   "execution_count": 145,
   "metadata": {},
   "outputs": [
    {
     "name": "stdout",
     "output_type": "stream",
     "text": [
      "Sebelum merubah data: Sumedang\n",
      "\n",
      "Setelah merubah data: Bandung\n"
     ]
    }
   ],
   "source": [
    "\"\"\"\n",
    "_dictionary[key] = value\n",
    "\"\"\"\n",
    "\n",
    "print(f\"Sebelum merubah data: {_dictionary['alamat']}\\n\")\n",
    "\n",
    "_dictionary['alamat'] = 'Bandung'\n",
    "print(f\"Setelah merubah data: {_dictionary['alamat']}\")"
   ]
  },
  {
   "cell_type": "markdown",
   "metadata": {},
   "source": [
    "#### **Menghapus data pada dictionary**"
   ]
  },
  {
   "cell_type": "code",
   "execution_count": 146,
   "metadata": {},
   "outputs": [
    {
     "name": "stdout",
     "output_type": "stream",
     "text": [
      "Sebelum dihapus: {'nama': 'Muhamad Hafidz Sohibul Fazri', 'umur': 21, 'angkatan': 2021, 'alamat': 'Bandung', 'no_hp': '08123456789'}\n",
      "\n",
      "Setelah dihapus: {'nama': 'Muhamad Hafidz Sohibul Fazri', 'umur': 21, 'angkatan': 2021, 'alamat': 'Bandung'}\n"
     ]
    }
   ],
   "source": [
    "\"\"\"\n",
    "menggunakan kata kunci del\n",
    "\n",
    "del _dectionary[key]\n",
    "\"\"\"\n",
    "print(f\"Sebelum dihapus: {_dictionary}\\n\")\n",
    "\n",
    "del _dictionary['no_hp']\n",
    "print(f\"Setelah dihapus: {_dictionary}\")"
   ]
  },
  {
   "cell_type": "code",
   "execution_count": 147,
   "metadata": {},
   "outputs": [
    {
     "name": "stdout",
     "output_type": "stream",
     "text": [
      "Sebelum dihapus: {'nama': 'Muhamad Hafidz Sohibul Fazri', 'umur': 21, 'angkatan': 2021, 'alamat': 'Bandung'}\n",
      "\n",
      "Setelah dihapus: {'nama': 'Muhamad Hafidz Sohibul Fazri', 'umur': 21, 'angkatan': 2021}\n"
     ]
    }
   ],
   "source": [
    "\"\"\"\n",
    "menggunakan metode .pop()\n",
    "\n",
    "_dictionary.pop(key)\n",
    "\"\"\"\n",
    "\n",
    "print(f\"Sebelum dihapus: {_dictionary}\\n\")\n",
    "\n",
    "_dictionary.pop(\"alamat\")\n",
    "print(f\"Setelah dihapus: {_dictionary}\")"
   ]
  },
  {
   "cell_type": "markdown",
   "metadata": {},
   "source": [
    "#### **Menggunakan list untuk menyimpan sekumpulan dictionary**"
   ]
  },
  {
   "cell_type": "code",
   "execution_count": 17,
   "metadata": {},
   "outputs": [
    {
     "name": "stdout",
     "output_type": "stream",
     "text": [
      "[{'nama': 'Udin', 'Fakultas': 'Teknik Informatika', 'Semester': 2, 'IPK': 3.43}, {'nama': 'Asep', 'Fakultas': 'Teknik Elektro', 'Semester': 2, 'IPK': 3.89}, {'nama': 'Mamat', 'Fakultas': 'Teknik Informatika', 'Semester': 10, 'IPK': 2.34}]\n",
      "{'nama': ['Udin', 'Asep', 'Mamat'], 'Fakultas': ['Teknik Informatika', 'Teknik Elektro', 'Teknik Mesin'], 'Semester': [2, 3, 2], 'IPK': [2.12, 3.21, 3.33]}\n"
     ]
    }
   ],
   "source": [
    "mahasiswa = [\n",
    "    {\n",
    "        \"nama\": \"Udin\",\n",
    "        \"Fakultas\": \"Teknik Informatika\",\n",
    "        \"Semester\": 2,\n",
    "        \"IPK\": 3.43\n",
    "    },\n",
    "    {\n",
    "        \"nama\": \"Asep\",\n",
    "        \"Fakultas\": \"Teknik Elektro\",\n",
    "        \"Semester\": 2,\n",
    "        \"IPK\": 3.89\n",
    "    },\n",
    "    {\n",
    "        \"nama\": \"Mamat\",\n",
    "        \"Fakultas\": \"Teknik Informatika\",\n",
    "        \"Semester\": 10,\n",
    "        \"IPK\": 2.34\n",
    "    }\n",
    "]\n",
    "\n",
    "list_mahasiswa = {\n",
    "    \"nama\": [\"Udin\", \"Asep\", \"Mamat\"],\n",
    "    \"Fakultas\": [\"Teknik Informatika\", \"Teknik Elektro\", \"Teknik Mesin\"],\n",
    "    \"Semester\": [2, 3 , 2],\n",
    "    \"IPK\": [2.12, 3.21, 3.33]\n",
    "}\n",
    "\n",
    "print(mahasiswa)"
   ]
  },
  {
   "cell_type": "code",
   "execution_count": 149,
   "metadata": {},
   "outputs": [
    {
     "name": "stdout",
     "output_type": "stream",
     "text": [
      "Nama: Udin, Fakultas: Teknik Informatika, Semester: 2, IPK: 3.43\n",
      "\n",
      "Nama: Asep, Fakultas: Teknik Elektro, Semester: 2, IPK: 3.89\n",
      "\n",
      "Nama: Mamat, Fakultas: Teknik Informatika, Semester: 10, IPK: 2.34\n",
      "\n"
     ]
    }
   ],
   "source": [
    "# menampilkan semua data\n",
    "for mhs in mahasiswa:\n",
    "    print(f\"Nama: {mhs['nama']}, Fakultas: {mhs['Fakultas']}, Semester: {mhs['Semester']}, IPK: {mhs['IPK']}\\n\")"
   ]
  }
 ],
 "metadata": {
  "kernelspec": {
   "display_name": "Python 3",
   "language": "python",
   "name": "python3"
  },
  "language_info": {
   "codemirror_mode": {
    "name": "ipython",
    "version": 3
   },
   "file_extension": ".py",
   "mimetype": "text/x-python",
   "name": "python",
   "nbconvert_exporter": "python",
   "pygments_lexer": "ipython3",
   "version": "3.12.0"
  }
 },
 "nbformat": 4,
 "nbformat_minor": 2
}
