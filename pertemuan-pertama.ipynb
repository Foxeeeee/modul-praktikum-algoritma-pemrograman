{
 "cells": [
  {
   "cell_type": "markdown",
   "metadata": {},
   "source": [
    "# **Pertemuan Pertama Praktikum Algoritma dan Pemrograman**"
   ]
  },
  {
   "cell_type": "markdown",
   "metadata": {},
   "source": [
    "### **Pendahuluan**\n",
    "Python merupakan bahasa pemrograman tingkat tinggi *(high level)* yang didesain dengan menekankan pada *readability code* atau keterbacaan kode. Hal ini membuat Python mudah dipahami dan dipelajari, bahkan oleh pemula sekalipun. Python menggunakan sintaks yang jelas dan ringkas, serta memiliki filosofi **pythonic** yang menekankan pada cara penulisan kode yang jelas dan mudah dibaca. Python adalah bahasa pemrograman bertipe dinamis *(dynamically typed)*, artinya tidak perlu mendeklarasikan tipe data variabel secara eksplisit. Tipe data dari variabel akan ditentukan saat program berjalan berdasarkan nilai yang diberikan. Ini membuat penulisan kode lebih fleksibel dan cepat, namun juga dapat menyebabkan runtime errors jika tidak berhati-hati. Karena bersifat dinamis, program Python akan tetap berjalan dan hanya akan menghasilkan kesalahan pada saat menjalankan bagian kode yang bermasalah. Python menggunakan interpreter untuk mengeksekusi kodenya, yang berarti kode dijalankan baris per baris."
   ]
  },
  {
   "cell_type": "markdown",
   "metadata": {},
   "source": [
    "### **Tujuan dan Manfaat**\n",
    "Praktikum 1 - Syntax dasar pada Python:\n",
    "1. Mahasiswa mampu memahami syntax dasar python\n",
    "2. Mahasiswa dapat menjalankan program python menggunakan IDE"
   ]
  },
  {
   "cell_type": "markdown",
   "metadata": {},
   "source": [
    "### **Pembahasan**"
   ]
  },
  {
   "cell_type": "markdown",
   "metadata": {},
   "source": [
    "#### **1. Komentar**\n",
    "Komentar digunakan untuk menjelaskan kode dan tidak akan dieksekusi oleh interpreter"
   ]
  },
  {
   "cell_type": "markdown",
   "metadata": {},
   "source": [
    "<center>\n",
    "\n",
    "|Komentar|<center>Penjelasan</center>|\n",
    "|:------:|----------|\n",
    "|`#`|Digunakan untuk membuat komentar satu baris|\n",
    "|`\"\"\" \"\"\"`| Digunakan untuk membuat komentar multibaris|\n",
    "\n",
    "</center>"
   ]
  },
  {
   "cell_type": "code",
   "execution_count": 117,
   "metadata": {},
   "outputs": [
    {
     "data": {
      "text/plain": [
       "'\\nIni adalah komentar\\nmultibaris\\n'"
      ]
     },
     "execution_count": 117,
     "metadata": {},
     "output_type": "execute_result"
    }
   ],
   "source": [
    "#ini adalah komentar satu baris\n",
    "\n",
    "\"\"\"\n",
    "Ini adalah komentar\n",
    "multibaris\n",
    "\"\"\""
   ]
  },
  {
   "cell_type": "markdown",
   "metadata": {},
   "source": [
    "#### **2. Python Script**\n",
    "Untuk menjalankan script python, kita membutuhkan text-editor seperti visual studio code, sublimetext, notepad++,\\\n",
    "jupyter notebook, jupyterLab, Spyder, atau PyCharm lalu, ikuti langkah-langkah sebagai berikut:\n",
    "1. Buatlah file dengan nama pertemuan-pertama.py\n",
    "2. Kemudian bukalah file tersebut dengan menggunakan text-editor yang terinstall\n",
    "3. Tuliskan script seperti berikut\\\n",
    "`print(\"Hello world\")`\n",
    "4. Dengan membuka command prompt atau terminal dengan mengetikan perintah:\n",
    "- Untuk linux dan  macOS:\n",
    "`python3 pertemuan-pertama.py` atau `python3 direktori/pertemuan-pertama.py`\n",
    "- Untuk windows:\n",
    "`python pertemuan-pertama.py` atau `python direktori/pertemuan-pertama.py`"
   ]
  },
  {
   "cell_type": "markdown",
   "metadata": {},
   "source": [
    "#### **3. Syntax dasar Python**"
   ]
  },
  {
   "cell_type": "markdown",
   "metadata": {},
   "source": [
    "1. Print statement\\\n",
    "`print()` adalah fungsi bawaan dari Python yang digunakan untuk mencetak argumen yang diberikan ke konsol atau layar. Fungsi ini, sering digunakan untuk menampilkan informasi, debugging, atau berinteraksi dengan pengguna. Contoh penggunaan sederhana fungsi python untuk mencetak argumen ke konsol:"
   ]
  },
  {
   "cell_type": "code",
   "execution_count": 118,
   "metadata": {},
   "outputs": [
    {
     "name": "stdout",
     "output_type": "stream",
     "text": [
      "Hello world!\n"
     ]
    }
   ],
   "source": [
    "print(\"Hello world!\")"
   ]
  },
  {
   "cell_type": "markdown",
   "metadata": {},
   "source": [
    "2. Variabel\\\n",
    "Variabel adalah cara untuk menyimpan nilai, sehingga dapat digunakan kembali dalam program. Variabel berfungsi sebagai label yang menunjuk ke suatu lokasi dalam memori di mana nilai disimpan. Untuk mendeklarasikan variabel di python, kita tidak perlu mendeklarasikan tipe data dan cukup memberikan nilai pada variabel dan secara otomatis Python akan menentukan tipe data dari variabel tersebut. Pada umumnya, variabel dibagi menjadi 2, yaitu varibel lokal dan variabel global.\n",
    "+ Variabel lokal adalah variabel yang dideklarasikan di dalam suatu fungsi dan hanya dapat diakses di dalam fungsi tersebut.\n",
    "+ Variabel global adalah variabel yang dideklarasikan di luar fungsi dan dapat diakses dari mana saja dalam kode.\n",
    "<center>\n",
    "\n",
    "|Aturan penamaan variabel|<center>Deskripsi</center>|\n",
    "|-------------------------|---------|\n",
    "|Karakter awal| Harus dimulai dengan huruf (a-z, A-Z) atau menggunakan *underscore* (_).|\n",
    "|Karakter lain| Setelah karakter pertama, nama variabel dapat berupa angka (0-9), atau *underscore* (_)|\n",
    "|Case sensitive| Nama variabel bersifat case sensitive, artinya `varibel`, `Variabel` dan `VARIABEL` adalah tiga variabel yang berbeda|\n",
    "|Tidak menggunakan kata kunci| Nama variabel tidak boleh menggunakan kata kunci *(keywordd)*  yang ada pada Python seperti `for`, `if` dan `else`|\n",
    "|Panjang nama| Untuk penamaan variabel sebaiknya pendek dan deskriptif\n",
    "\n",
    "</center>"
   ]
  },
  {
   "cell_type": "code",
   "execution_count": 119,
   "metadata": {},
   "outputs": [],
   "source": [
    "#mendeklarasikan variabel dan menginisialisasi value\n",
    "nama = \"Hafidz\"\n",
    "umur = 21\n",
    "tinggi_badan = 167.6\n",
    "_mahasiswa_aktif = True"
   ]
  },
  {
   "cell_type": "markdown",
   "metadata": {},
   "source": [
    "3. Interpolasi string\\\n",
    "Interpolasi string adalah teknik untuk menyisipkan nilai variabel atau hasil ekspresi ke dalam string. Ini memungkinkan pembuatan string yang lebih dinamis dan fleksibel, di mana nilai-nilai dapat diubah atau dihitung pada saat runtime. Dalam Python, terdapat beberapa metode untuk melakukan interpolasi string, termasuk menggunakan operator %, metode str.format(), F-String, dan bisa juga menggunakan parameter `*object`."
   ]
  },
  {
   "cell_type": "code",
   "execution_count": 120,
   "metadata": {},
   "outputs": [
    {
     "name": "stdout",
     "output_type": "stream",
     "text": [
      "Perkenalkan, nama saya Hafidz dan umur saya adalah 21 tahun\n"
     ]
    }
   ],
   "source": [
    "# menggunakan operator %%\n",
    "print(\"Perkenalkan, nama saya %s dan umur saya adalah %d tahun\" % (nama, umur))"
   ]
  },
  {
   "cell_type": "code",
   "execution_count": 121,
   "metadata": {},
   "outputs": [
    {
     "name": "stdout",
     "output_type": "stream",
     "text": [
      "Perkenalkan, nama saya Hafidz dan umur saya adalah 21\n"
     ]
    }
   ],
   "source": [
    "# menggunakan metode str.format\n",
    "print(\"Perkenalkan, nama saya {} dan umur saya adalah {}\".format(nama,umur))"
   ]
  },
  {
   "cell_type": "code",
   "execution_count": 122,
   "metadata": {},
   "outputs": [
    {
     "name": "stdout",
     "output_type": "stream",
     "text": [
      "Perkenalkan, nama saya Hafidz dan umur saya adalah 21 tahun\n"
     ]
    }
   ],
   "source": [
    "# menggunakan f-string\n",
    "print(f\"Perkenalkan, nama saya {nama} dan umur saya adalah {umur} tahun\")"
   ]
  },
  {
   "cell_type": "code",
   "execution_count": 123,
   "metadata": {},
   "outputs": [
    {
     "name": "stdout",
     "output_type": "stream",
     "text": [
      "Perkenalkan, nama saya Hafidz dan umur saya adalah 21\n"
     ]
    }
   ],
   "source": [
    "# menggunakan parameter *object\n",
    "print(\"Perkenalkan, nama saya\", nama, \"dan umur saya adalah\", umur)"
   ]
  },
  {
   "cell_type": "markdown",
   "metadata": {},
   "source": [
    "4. Tipe data\\\n",
    "Tipe data adalah kategori yang menentukan jenis data yang dapat disimpan dan dioperasikan dalam suatu program. Dalam Python, tipe data menentukan apa yang bisa dilakukan terhadap nilai tersebut dan bagaimana nilai tersebut disimpan di dalam memori. Tipe data juga membantu dalam memahami cara pengolahan data dan pengoperasiannya dalam konteks program.\n",
    "<center>\n",
    "\n",
    "|Tipe data|Penjelasan|contoh|\n",
    "|-|-|-|\n",
    "|`String`|Menyatakan karakter (huruf, angka, dan simbol) diampit dengan `\" \"` atau `' '`|`\"Algoritma dan pemrograman\"` dan `'Algoritma dan pemrograman'`|\n",
    "|`Integer`|Menyatakan bilangan bulat|`123` dan `234`|\n",
    "|`Float`|Menyatakan bilangan desimal|`3.14` dan `29.7`|\n",
    "|`Boolean`|Tipe data yang hanya memiliki dua nilai, untuk menyatakan benar (`True`) dan salah (`False`)|`is_student = True` dan `is_student = False`|\n",
    "|`List`|Kumpulan data yang terurut dan dapat diubah *(mutable)* dan diakses menggunakan index|`[1, 2, 3]` dan `[\"A\", \"B\", \"C\"]`|\n",
    "|`Tuple`|Sama seperti `List`, tetapi tidak dapat diubah *(immutable)*|`(1, 2, 3)` dan `(\"A\", \"B\", \"C\")`|\n",
    "|`Set`|Kumpulan data yang tidak terurut dan tidak memiliki duplikat|`{1, 2, 3}` dan `{\"A\", \"B\", \"C\"}`|\n",
    "|`Dictionary`|Kumpulan data yang memiliki pasangan kunci-nilai *(key-value pairs)*|`mahasiswa = {\"nama\": \"Hafidz\", \"umur\": 21}`|\n",
    "\n",
    "</center>"
   ]
  },
  {
   "cell_type": "code",
   "execution_count": 124,
   "metadata": {},
   "outputs": [
    {
     "name": "stdout",
     "output_type": "stream",
     "text": [
      "tipe data string:     <class 'str'>\n",
      "tipe data integer:    <class 'int'>\n",
      "tipe data float:      <class 'float'>\n",
      "tipe data boolean:    <class 'bool'>\n",
      "tipe data list:       <class 'list'>\n",
      "tipe data tuple:      <class 'tuple'>\n",
      "tipe data set:        <class 'set'>\n",
      "tipe data dictionary: <class 'dict'>\n"
     ]
    }
   ],
   "source": [
    "_string = \"Algoritma dan pemrograman\"\n",
    "_integer = 123\n",
    "_float = 3.14\n",
    "_boolean = True\n",
    "_list = [1, 2, 3]\n",
    "_tuple = (1, 2, 3)\n",
    "_set = {1, 2, 3}\n",
    "_dictionary = {\"nama\": \"Hafidz\", \"umur\": 21}\n",
    "\n",
    "# menampilkan tipe data ke konsol\n",
    "print(\"tipe data string:    \", type(_string))\n",
    "print(\"tipe data integer:   \", type(_integer))\n",
    "print(\"tipe data float:     \", type(_float))\n",
    "print(\"tipe data boolean:   \", type(_boolean))\n",
    "print(\"tipe data list:      \", type(_list))\n",
    "print(\"tipe data tuple:     \", type(_tuple))\n",
    "print(\"tipe data set:       \", type(_set))\n",
    "print(\"tipe data dictionary:\", type(_dictionary))"
   ]
  },
  {
   "cell_type": "markdown",
   "metadata": {},
   "source": [
    "5. Casting Tipe Data\\\n",
    "Casting tipe data adalah proses mengubah nilai dari satu tipe data ke tipe data lain. Ini sangat berguna ketika akan melakukan operasi yang memerlukan tipe data tertentu atau untuk memastikan tipe data supaya konsisten. Python menyediakan beberapa fungsi bawaan untuk casting tipe data.\n",
    "<center>\n",
    "\n",
    "|Fungsi|<center>Penjelasan</center>|\n",
    "|-|-|\n",
    "|`str()`|Mengubah menjadi tipe data string|\n",
    "|`int()`|Mengubah menjadi tipe data integer|\n",
    "|`float()`|Mengubah menjadi tipe data float|\n",
    "|`bool()`|Mengubah menjadi tipe data boolean|\n",
    "\n",
    "</center>\n",
    "\n",
    "+ **Catatan**: Tipe data yang akan dirubah menjadi integer atau float dari string harus berupa angka.\\\n",
    "Contoh: `data_string = \"123\"`"
   ]
  },
  {
   "cell_type": "code",
   "execution_count": 125,
   "metadata": {},
   "outputs": [],
   "source": [
    "# inisialisasi variabel dan value\n",
    "data_integer = 13\n",
    "data_float = 3.14\n",
    "data_boolean = True\n",
    "data_string = \"123\""
   ]
  },
  {
   "cell_type": "code",
   "execution_count": 126,
   "metadata": {},
   "outputs": [
    {
     "name": "stdout",
     "output_type": "stream",
     "text": [
      "hasil dari casting data = 123, tipe data: <class 'int'>\n",
      "hasil dari casting data = 123.0, tipe data: <class 'float'>\n",
      "hasil dari casting data = True, tipe data: <class 'bool'>\n"
     ]
    }
   ],
   "source": [
    "# merubah tipe data dari string menjadi tipe data yang lain\n",
    "string_ke_integer = int(data_string)\n",
    "string_ke_float = float(data_string)\n",
    "string_ke_boolean = bool(data_string)\n",
    "\n",
    "# menampilkan hasil dari casting data\n",
    "print(f\"hasil dari casting data = {string_ke_integer}, tipe data: {type(string_ke_integer)}\")\n",
    "print(f\"hasil dari casting data = {string_ke_float}, tipe data: {type(string_ke_float)}\")\n",
    "print(f\"hasil dari casting data = {string_ke_boolean}, tipe data: {type(string_ke_boolean)}\")"
   ]
  },
  {
   "cell_type": "code",
   "execution_count": 127,
   "metadata": {},
   "outputs": [
    {
     "name": "stdout",
     "output_type": "stream",
     "text": [
      "hasil dari casting data = 13, tipe data: <class 'str'>\n",
      "hasil dari casting data = 13.0, tipe data: <class 'float'>\n",
      "hasil dari casting data = True, tipe data: <class 'bool'>\n"
     ]
    }
   ],
   "source": [
    "# merubah tipe data dari integer menjadi tipe data yang lain\n",
    "integer_ke_string = str(data_integer)\n",
    "integer_ke_float = float(data_integer)\n",
    "integer_ke_boolean = bool(data_integer)\n",
    "\n",
    "# menampilkan hasil dari casting data\n",
    "print(f\"hasil dari casting data = {integer_ke_string}, tipe data: {type(integer_ke_string)}\")\n",
    "print(f\"hasil dari casting data = {integer_ke_float}, tipe data: {type(integer_ke_float)}\")\n",
    "print(f\"hasil dari casting data = {integer_ke_boolean}, tipe data: {type(integer_ke_boolean)}\")"
   ]
  },
  {
   "cell_type": "code",
   "execution_count": 128,
   "metadata": {},
   "outputs": [
    {
     "name": "stdout",
     "output_type": "stream",
     "text": [
      "hasil dari casting data = 3.14, tipe data: <class 'str'>\n",
      "hasil dari casting data = 3, tipe data: <class 'int'>\n",
      "hasil dari casting data = True, tipe data: <class 'bool'>\n"
     ]
    }
   ],
   "source": [
    "# merubah tipe data dari float menjadi tipe data yang lain\n",
    "float_ke_string = str(data_float)\n",
    "float_ke_integer = int(data_float)\n",
    "float_ke_boolean = bool(data_float)\n",
    "\n",
    "# menampilkan hasil dari casting data\n",
    "print(f\"hasil dari casting data = {float_ke_string}, tipe data: {type(float_ke_string)}\")\n",
    "print(f\"hasil dari casting data = {float_ke_integer}, tipe data: {type(float_ke_integer)}\")\n",
    "print(f\"hasil dari casting data = {float_ke_boolean}, tipe data: {type(float_ke_boolean)}\")"
   ]
  },
  {
   "cell_type": "code",
   "execution_count": 129,
   "metadata": {},
   "outputs": [
    {
     "name": "stdout",
     "output_type": "stream",
     "text": [
      "hasil dari casting data = True, tipe data: <class 'str'>\n",
      "hasil dari casting data = 1, tipe data: <class 'int'>\n",
      "hasil dari casting data = 1.0, tipe data: <class 'float'>\n"
     ]
    }
   ],
   "source": [
    "# merubah tipe data dari boolean menjadi tipe data yang lain\n",
    "boolean_ke_string = str(data_boolean)\n",
    "boolean_ke_integer = int(data_boolean)\n",
    "boolean_ke_float = float(data_boolean)\n",
    "\n",
    "# menampilkan hasil dari casting data\n",
    "print(f\"hasil dari casting data = {boolean_ke_string}, tipe data: {type(boolean_ke_string)}\")\n",
    "print(f\"hasil dari casting data = {boolean_ke_integer}, tipe data: {type(boolean_ke_integer)}\")\n",
    "print(f\"hasil dari casting data = {boolean_ke_float}, tipe data: {type(boolean_ke_float)}\")"
   ]
  },
  {
   "cell_type": "markdown",
   "metadata": {},
   "source": [
    "6. Operator aritmatika\\\n",
    "Operator aritmatika adalah operator yang digunakan untuk melakukan operasi matematika dasar seperti penjumlahan, pengurangan, perkalian, pembagian, dan lain-lain.\n",
    "\n",
    "<center>\n",
    "\n",
    "|Operator aritmatika|<center>Penjelasan</center>|\n",
    "|:-:|-|\n",
    "|`+`|Untuk melakukan penjumlahan antara dua variabel|\n",
    "|`-`|Untuk melakukan pengurangan antara dua variabel|\n",
    "|`*`|Untuk melakukan perkalian antara dua variabel|\n",
    "|`/`|Untuk melakukan pembagian antara dua variabel|\n",
    "|`%`|Untuk mendapatkan sisa hasil pembagian|\n",
    "|`//`|Untuk melakukan pembagian dan mengembalikan hasil menjadi bilangan bulat *(floor division)*|\n",
    "|`**`|Untuk memangkatkan satu nilai dengan nilai lainnya|\n",
    "\n",
    "</center>"
   ]
  },
  {
   "cell_type": "code",
   "execution_count": 130,
   "metadata": {},
   "outputs": [],
   "source": [
    "a = 3\n",
    "b = 2"
   ]
  },
  {
   "cell_type": "code",
   "execution_count": 131,
   "metadata": {},
   "outputs": [
    {
     "name": "stdout",
     "output_type": "stream",
     "text": [
      "Hasil penjumlahan dari 3 + 2 = 5\n"
     ]
    }
   ],
   "source": [
    "#penjumlahan\n",
    "print(f\"Hasil penjumlahan dari {a} + {b} = {a + b}\")"
   ]
  },
  {
   "cell_type": "code",
   "execution_count": 132,
   "metadata": {},
   "outputs": [
    {
     "name": "stdout",
     "output_type": "stream",
     "text": [
      "Hasil pengurangan dari 3 - 2 = 1\n"
     ]
    }
   ],
   "source": [
    "#pengurangan\n",
    "print(f\"Hasil pengurangan dari {a} - {b} = {a - b}\")"
   ]
  },
  {
   "cell_type": "code",
   "execution_count": 133,
   "metadata": {},
   "outputs": [
    {
     "name": "stdout",
     "output_type": "stream",
     "text": [
      "Hasil perkalian dari 3 * 2 = 6\n"
     ]
    }
   ],
   "source": [
    "#perkalian\n",
    "print(f\"Hasil perkalian dari {a} * {b} = {a * b}\")"
   ]
  },
  {
   "cell_type": "code",
   "execution_count": 134,
   "metadata": {},
   "outputs": [
    {
     "name": "stdout",
     "output_type": "stream",
     "text": [
      "Hasil pembagian dari 3 / 2 = 1.5\n"
     ]
    }
   ],
   "source": [
    "#pembagian\n",
    "print(f\"Hasil pembagian dari {a} / {b} = {a / b}\")"
   ]
  },
  {
   "cell_type": "code",
   "execution_count": 135,
   "metadata": {},
   "outputs": [
    {
     "name": "stdout",
     "output_type": "stream",
     "text": [
      "Sisa hasil bagi dari 3 % 2 = 1\n"
     ]
    }
   ],
   "source": [
    "#modulus\n",
    "print(f\"Sisa hasil bagi dari {a} % {b} = {a % b}\")"
   ]
  },
  {
   "cell_type": "code",
   "execution_count": 136,
   "metadata": {},
   "outputs": [
    {
     "name": "stdout",
     "output_type": "stream",
     "text": [
      "Hasil pembagian yang membulatkan hasil dari 3 // 2 = 1\n"
     ]
    }
   ],
   "source": [
    "# melakukan pembagian dengan mengembalikan hasil menjadi bilangan bulat\n",
    "print(f\"Hasil pembagian yang membulatkan hasil dari {a} // {b} = {a // b}\")"
   ]
  },
  {
   "cell_type": "code",
   "execution_count": 137,
   "metadata": {},
   "outputs": [
    {
     "name": "stdout",
     "output_type": "stream",
     "text": [
      "Eksponensial dari 3 ** 2 =  9\n"
     ]
    }
   ],
   "source": [
    "# eksponensial\n",
    "print(f\"Eksponensial dari {a} ** {b} =  {a ** b}\")"
   ]
  },
  {
   "cell_type": "markdown",
   "metadata": {},
   "source": [
    "7. Membuat input dari *user*\\\n",
    "Untuk membuat input dari user, kita bisa menggunakan fungsi `input()`. Fungsi ini menghentikan eksekusi program dan menunggu *user* memasukan data melalui *keyboard*. Setelah *user* memasukkan data dan menekan tombol `Enter`, data tersebut akan dikembalikan sebagai string."
   ]
  },
  {
   "cell_type": "code",
   "execution_count": null,
   "metadata": {},
   "outputs": [],
   "source": [
    "# mengambil input berupa string\n",
    "nama = input(\"Masukan nama anda\")\n",
    "print(f\"Nama anda adalah {nama}\")"
   ]
  },
  {
   "cell_type": "code",
   "execution_count": null,
   "metadata": {},
   "outputs": [],
   "source": [
    "# mengambil input berupa angka\n",
    "umur = int(input(\"Masukan umur anda: \"))\n",
    "print(f\"Umur anda adalah {umur}\")\n",
    "\n",
    "tinggi_badan = float(input(\"Masukan tinggi badan anda\"))\n",
    "print(f\"Tinggi badan anda adalah {tinggi_badan}\")"
   ]
  },
  {
   "cell_type": "markdown",
   "metadata": {},
   "source": [
    "8. Operasi dan manipulasi string"
   ]
  },
  {
   "cell_type": "markdown",
   "metadata": {},
   "source": [
    "<center>\n",
    "\n",
    "|Operasi|Penjelasan|\n",
    "|-|-|\n",
    "|`Concatenation (+)`|Digunakan untuk menggabungkan dua atau lebih string|\n",
    "|`Repetition (*)`|Digunakan untuk mengulang string sebanayak n|\n",
    "|`Membership (in, not in)`|Digunakan untuk memeriksa apakah substring ada dalam string|\n",
    "|`Indexing`|Digunakan untuk mengakses karakter pada posisi tertentu|\n",
    "|`Slicing`|Digunakan untuk mengambil bagian dari string|\n",
    "\n",
    "</center>\n",
    "<br></br>\n",
    "<center>\n",
    "\n",
    "|Metode manipulasi string|Penjelasan|\n",
    "|-|-|\n",
    "|`upper()`|Mengubah huruf menjadi kapital|\n",
    "|`lower()`|Mengubah huruf menjadi non-kapital|\n",
    "|`strip()`|Menghapus spasi atau karakter tertentu dari awal dan akhir string|\n",
    "|`lstrip()`|Menghapus spasi atau karakter tertentu di awal string|\n",
    "|`rstrip()`|Menghapus spasi atau karakter tertenu di akhir string|\n",
    "|`replace()`|Mengganti substring dengan substring lain|\n",
    "|`find()`|Menemukan posisi pertama dari substring dalam string|\n",
    "|`rfind()`|Menemukan posisi terakhir dari substring dalam string|\n",
    "|`startwith()`|Memeriksa apakah string dimulai dari string tertentu|\n",
    "|`endwith()`|Memeriksa apakah string diakhiri dari string tertenu|\n",
    "</center>"
   ]
  },
  {
   "cell_type": "code",
   "execution_count": 138,
   "metadata": {},
   "outputs": [
    {
     "name": "stdout",
     "output_type": "stream",
     "text": [
      "Concatenation: Hello, Alice!\n"
     ]
    }
   ],
   "source": [
    "# Concatenation\n",
    "greeting = \"Hello\"\n",
    "name = \"Alice\"\n",
    "message = greeting + \", \" + name + \"!\"\n",
    "print(\"Concatenation:\", message)"
   ]
  },
  {
   "cell_type": "code",
   "execution_count": 139,
   "metadata": {},
   "outputs": [
    {
     "name": "stdout",
     "output_type": "stream",
     "text": [
      "Repetition: Echo! Echo! Echo! \n"
     ]
    }
   ],
   "source": [
    "# Repetition\n",
    "echo = \"Echo! \" * 3\n",
    "print(\"Repetition:\", echo)"
   ]
  },
  {
   "cell_type": "code",
   "execution_count": 146,
   "metadata": {},
   "outputs": [
    {
     "name": "stdout",
     "output_type": "stream",
     "text": [
      "Is 'World' in 'Hello World'? True\n",
      "Is 'Goodbye' in 'Hello World'? False\n"
     ]
    }
   ],
   "source": [
    "# Membership\n",
    "substring1 = \"World\"\n",
    "substring2 = \"Goodbye\"\n",
    "sentence = \"Hello World\"\n",
    "print(f\"Is '{substring1}' in '{sentence}'?\", substring1 in sentence)\n",
    "print(f\"Is '{substring2}' in '{sentence}'?\", substring2 in sentence)"
   ]
  },
  {
   "cell_type": "code",
   "execution_count": 141,
   "metadata": {},
   "outputs": [
    {
     "name": "stdout",
     "output_type": "stream",
     "text": [
      "First character: P\n",
      "Last character: g\n",
      "Slice (0:5): Progr\n",
      "Slice (6:): mming\n"
     ]
    }
   ],
   "source": [
    "# Indexing and Slicing\n",
    "word = \"Programming\"\n",
    "print(\"First character:\", word[0])\n",
    "print(\"Last character:\", word[-1])\n",
    "print(\"Slice (0:5):\", word[0:5])\n",
    "print(\"Slice (6:):\", word[6:])"
   ]
  },
  {
   "cell_type": "code",
   "execution_count": 142,
   "metadata": {},
   "outputs": [
    {
     "name": "stdout",
     "output_type": "stream",
     "text": [
      "Uppercase:   HELLO, WORLD!  \n",
      "Lowercase:   hello, world!  \n",
      "Stripped: Hello, World!\n"
     ]
    }
   ],
   "source": [
    "# Manipulation methods\n",
    "phrase = \"  Hello, World!  \"\n",
    "print(\"Uppercase:\", phrase.upper())\n",
    "print(\"Lowercase:\", phrase.lower())\n",
    "print(\"Stripped:\", phrase.strip())"
   ]
  },
  {
   "cell_type": "code",
   "execution_count": 143,
   "metadata": {},
   "outputs": [
    {
     "name": "stdout",
     "output_type": "stream",
     "text": [
      "Replace: I like bananas\n"
     ]
    }
   ],
   "source": [
    "# Replace\n",
    "text = \"I like apples\"\n",
    "new_text = text.replace(\"apples\", \"bananas\")\n",
    "print(\"Replace:\", new_text)"
   ]
  },
  {
   "cell_type": "code",
   "execution_count": 144,
   "metadata": {},
   "outputs": [
    {
     "name": "stdout",
     "output_type": "stream",
     "text": [
      "Find 'o': 4\n",
      "Rfind 'o': 7\n"
     ]
    }
   ],
   "source": [
    "# Find\n",
    "print(\"Find 'o':\", sentence.find(\"o\"))\n",
    "print(\"Rfind 'o':\", sentence.rfind(\"o\"))"
   ]
  },
  {
   "cell_type": "code",
   "execution_count": 147,
   "metadata": {},
   "outputs": [
    {
     "name": "stdout",
     "output_type": "stream",
     "text": [
      "Starts with 'Hello': True\n",
      "Ends with 'World': True\n"
     ]
    }
   ],
   "source": [
    "# Startswith and Endswith\n",
    "print(\"Starts with 'Hello':\", sentence.startswith(\"Hello\"))\n",
    "print(\"Ends with 'World':\", sentence.endswith(\"World\"))"
   ]
  },
  {
   "cell_type": "markdown",
   "metadata": {},
   "source": [
    "#### **4. Latihan**"
   ]
  },
  {
   "cell_type": "markdown",
   "metadata": {},
   "source": [
    "Buatlah program untuk konversi suhu, di mana suhu yang akan dikonversi diambil dari input pengguna"
   ]
  },
  {
   "cell_type": "code",
   "execution_count": null,
   "metadata": {},
   "outputs": [],
   "source": []
  }
 ],
 "metadata": {
  "kernelspec": {
   "display_name": "Python 3",
   "language": "python",
   "name": "python3"
  },
  "language_info": {
   "codemirror_mode": {
    "name": "ipython",
    "version": 3
   },
   "file_extension": ".py",
   "mimetype": "text/x-python",
   "name": "python",
   "nbconvert_exporter": "python",
   "pygments_lexer": "ipython3",
   "version": "3.12.0"
  }
 },
 "nbformat": 4,
 "nbformat_minor": 2
}
